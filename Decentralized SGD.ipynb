{
 "cells": [
  {
   "cell_type": "markdown",
   "id": "811b5c91-bd8d-4046-afc0-88bcac9ed85e",
   "metadata": {},
   "source": [
    "# Decentralized SGD Algorithm"
   ]
  },
  {
   "cell_type": "code",
   "execution_count": null,
   "id": "40fcc9fc-8e8a-402c-8612-cad612f5834c",
   "metadata": {},
   "outputs": [],
   "source": [
    "import torch\n",
    "import torch.nn as nn\n",
    "import torch.optim as optim\n",
    "import torch.utils.data as data\n",
    "import random\n",
    "import numpy as np"
   ]
  },
  {
   "cell_type": "markdown",
   "id": "1ac5c238-d989-452e-9d89-864f06bff922",
   "metadata": {},
   "source": [
    "## For reproducibility"
   ]
  },
  {
   "cell_type": "code",
   "execution_count": null,
   "id": "ab5698c9-ffed-426c-88da-d78da8b23964",
   "metadata": {},
   "outputs": [],
   "source": [
    "torch.manual_seed(0)\n",
    "np.random.seed(0)\n",
    "random.seed(0)"
   ]
  },
  {
   "cell_type": "markdown",
   "id": "4f42b85b-a315-4f63-9278-6574b0d8b0fc",
   "metadata": {},
   "source": [
    "## Define a simple neural network"
   ]
  },
  {
   "cell_type": "code",
   "execution_count": null,
   "id": "577811b3-fde0-4b24-9e38-3da74a28b0fb",
   "metadata": {},
   "outputs": [],
   "source": [
    "class SimpleNN(nn.Module):\n",
    "    def __init__(self, input_size=20, hidden_size=50, output_size=2):\n",
    "        super(SimpleNN, self).__init__()\n",
    "        self.fc1 = nn.Linear(input_size, hidden_size)\n",
    "        self.relu = nn.ReLU()\n",
    "        self.fc2 = nn.Linear(hidden_size, output_size)\n",
    "    \n",
    "    def forward(self, x):\n",
    "        out = self.fc1(x)\n",
    "        out = self.relu(out)\n",
    "        out = self.fc2(out)\n",
    "        return out\n",
    "\n",
    "# Generate synthetic dataset\n",
    "def generate_synthetic_data(num_samples=1000, input_size=20, num_classes=2):\n",
    "    X = torch.randn(num_samples, input_size)\n",
    "    Y = torch.randint(0, num_classes, (num_samples,))\n",
    "    return X, Y"
   ]
  },
  {
   "cell_type": "markdown",
   "id": "70a32abc-dfc8-440a-8ddb-a6bbf454bca1",
   "metadata": {},
   "source": [
    "## # Define the Peer class"
   ]
  },
  {
   "cell_type": "code",
   "execution_count": null,
   "id": "fdc6e4d5-6f64-4295-bfc7-7473d2c1e904",
   "metadata": {},
   "outputs": [],
   "source": [
    "class Peer:\n",
    "    def __init__(self, peer_id, model, train_loader, lr=0.01):\n",
    "        self.peer_id = peer_id\n",
    "        self.model = model\n",
    "        self.train_loader = train_loader\n",
    "        self.optimizer = optim.SGD(self.model.parameters(), lr=lr)\n",
    "        self.criterion = nn.CrossEntropyLoss()\n",
    "        self.neighbors = []  # To be set based on network topology\n",
    "\n",
    "    def set_neighbors(self, neighbors):\n",
    "        self.neighbors = neighbors\n",
    "\n",
    "    def local_train(self, epochs=1):\n",
    "        self.model.train()\n",
    "        for epoch in range(epochs):\n",
    "            for batch_idx, (data_batch, target) in enumerate(self.train_loader):\n",
    "                data_batch, target = data_batch.float(), target.long()\n",
    "                self.optimizer.zero_grad()\n",
    "                outputs = self.model(data_batch)\n",
    "                loss = self.criterion(outputs, target)\n",
    "                loss.backward()\n",
    "                self.optimizer.step()\n",
    "\n",
    "    def average_with_neighbors(self):\n",
    "        # Collect parameters from neighbors\n",
    "        neighbor_params = []\n",
    "        for neighbor in self.neighbors:\n",
    "            neighbor_params.append([param.data.clone() for param in neighbor.model.parameters()])\n",
    "\n",
    "        # Include own parameters\n",
    "        own_params = [param.data.clone() for param in self.model.parameters()]\n",
    "        neighbor_params.append(own_params)\n"
   ]
  },
  {
   "cell_type": "markdown",
   "id": "a96f469b-600a-428e-b95f-673102ae3751",
   "metadata": {},
   "source": [
    "   ## Compute average"
   ]
  },
  {
   "cell_type": "code",
   "execution_count": null,
   "id": "6b224415-4978-4777-a55a-a4327c34bde4",
   "metadata": {},
   "outputs": [],
   "source": [
    "\n",
    "        avg_params = []\n",
    "        num_sources = len(neighbor_params)\n",
    "        for param_idx in range(len(own_params)):\n",
    "            avg = torch.zeros_like(own_params[param_idx])\n",
    "            for source in neighbor_params:\n",
    "                avg += source[param_idx]\n",
    "            avg /= num_sources\n",
    "            avg_params.append(avg)\n",
    "\n",
    "        # Update own parameters\n",
    "        for param, avg in zip(self.model.parameters(), avg_params):\n",
    "            param.data.copy_(avg)\n",
    "\n",
    "    def get_parameters(self):\n",
    "        return [param.data.clone() for param in self.model.parameters()]\n"
   ]
  },
  {
   "cell_type": "markdown",
   "id": "20f4e1e7-d2da-47fb-bd21-266a88be7b40",
   "metadata": {},
   "source": [
    "## Define network topology (e.g., Ring)"
   ]
  },
  {
   "cell_type": "code",
   "execution_count": null,
   "id": "ea94502b-7d8b-4939-bc91-f758a7d35f86",
   "metadata": {},
   "outputs": [],
   "source": [
    "def create_ring_topology(peers):\n",
    "    num_peers = len(peers)\n",
    "    for i, peer in enumerate(peers):\n",
    "        left_neighbor = peers[(i - 1) % num_peers]\n",
    "        right_neighbor = peers[(i + 1) % num_peers]\n",
    "        peer.set_neighbors([left_neighbor, right_neighbor])\n",
    "\n",
    "# Alternatively, create a fully connected topology\n",
    "def create_fully_connected_topology(peers):\n",
    "    for peer in peers:\n",
    "        peer.set_neighbors([p for p in peers if p != peer])\n",
    "\n",
    "# Create peers with local datasets\n",
    "def initialize_peers(num_peers=5, input_size=20, hidden_size=50, output_size=2, \n",
    "                    num_samples_per_peer=1000, batch_size=32, lr=0.01):\n",
    "    peers = []\n",
    "    for i in range(num_peers):\n",
    "        model = SimpleNN(input_size, hidden_size, output_size)\n",
    "        X, Y = generate_synthetic_data(num_samples=num_samples_per_peer, input_size=input_size, num_classes=output_size)\n",
    "        dataset = data.TensorDataset(X, Y)\n",
    "        train_loader = data.DataLoader(dataset, batch_size=batch_size, shuffle=True)\n",
    "        peer = Peer(peer_id=i, model=model, train_loader=train_loader, lr=lr)\n",
    "        peers.append(peer)\n",
    "    return peers"
   ]
  },
  {
   "cell_type": "markdown",
   "id": "187df9b5-e689-4ba3-94ce-04800492bedc",
   "metadata": {},
   "source": [
    "## Evaluate the model on a test set"
   ]
  },
  {
   "cell_type": "code",
   "execution_count": null,
   "id": "ca7b28a7-61e1-4d5e-939f-716890adfb8c",
   "metadata": {},
   "outputs": [],
   "source": [
    "\n",
    "def evaluate(peers, test_loader):\n",
    "    # Aggregate parameters (e.g., average all peer models)\n",
    "    avg_model = SimpleNN()\n",
    "    num_peers = len(peers)\n",
    "    for param in avg_model.parameters():\n",
    "        param.data = torch.zeros_like(param)\n",
    "\n",
    "    for peer in peers:\n",
    "        for avg_param, param in zip(avg_model.parameters(), peer.model.parameters()):\n",
    "            avg_param.data += param.data\n",
    "\n",
    "    for param in avg_model.parameters():\n",
    "        param.data /= num_peers\n",
    "\n",
    "    # Evaluate the averaged model\n",
    "    avg_model.eval()\n",
    "    correct = 0\n",
    "    total = 0\n",
    "    with torch.no_grad():\n",
    "        for data_batch, target in test_loader:\n",
    "            data_batch, target = data_batch.float(), target.long()\n",
    "            outputs = avg_model(data_batch)\n",
    "            _, predicted = torch.max(outputs.data, 1)\n",
    "            total += target.size(0)\n",
    "            correct += (predicted == target).sum().item()\n",
    "\n",
    "    accuracy = 100 * correct / total\n",
    "    print(f'Aggregated Model Accuracy on Test Set: {accuracy:.2f}%')\n"
   ]
  },
  {
   "cell_type": "markdown",
   "id": "4325721e-aad1-402a-8afe-4b52045145e9",
   "metadata": {},
   "source": [
    "## Main training loop"
   ]
  },
  {
   "cell_type": "code",
   "execution_count": null,
   "id": "da77857c-8708-416b-b350-b688b930c84a",
   "metadata": {},
   "outputs": [],
   "source": [
    "\n",
    "def decentralized_sgd(num_peers=5, input_size=20, hidden_size=50, output_size=2, \n",
    "                     num_samples_per_peer=1000, batch_size=32, lr=0.01, \n",
    "                     num_rounds=50, local_epochs=1, topology='ring'):\n",
    "    # Initialize peers\n",
    "    peers = initialize_peers(num_peers, input_size, hidden_size, output_size, \n",
    "                             num_samples_per_peer, batch_size, lr)\n",
    "\n",
    "    # Define network topology\n",
    "    if topology == 'ring':\n",
    "        create_ring_topology(peers)\n",
    "    elif topology == 'fully_connected':\n",
    "        create_fully_connected_topology(peers)\n",
    "    else:\n",
    "        raise ValueError(\"Unsupported topology. Choose 'ring' or 'fully_connected'.\")\n",
    "\n",
    "    # Create a global test set\n",
    "    X_test, Y_test = generate_synthetic_data(num_samples=1000, input_size=input_size, num_classes=output_size)\n",
    "    test_dataset = data.TensorDataset(X_test, Y_test)\n",
    "    test_loader = data.DataLoader(test_dataset, batch_size=64, shuffle=False)\n",
    "\n",
    "    # Training rounds\n",
    "    for round_num in range(1, num_rounds + 1):\n",
    "        print(f'Round {round_num}/{num_rounds}')\n",
    "        \n",
    "        # Local training\n",
    "        for peer in peers:\n",
    "            peer.local_train(epochs=local_epochs)\n",
    "        \n",
    "        # Model averaging with neighbors\n",
    "        for peer in peers:\n",
    "            peer.average_with_neighbors()\n",
    "\n",
    "        # Optionally, evaluate periodically\n",
    "        if round_num % 10 == 0 or round_num == 1:\n",
    "            evaluate(peers, test_loader)\n",
    "\n",
    "    # Final evaluation\n",
    "    print(\"Final Evaluation:\")\n",
    "    evaluate(peers, test_loader)\n",
    "\n",
    "if __name__ == \"__main__\":\n",
    "    decentralized_sgd(\n",
    "        num_peers=5,\n",
    "        input_size=20,\n",
    "        hidden_size=50,\n",
    "        output_size=2,\n",
    "        num_samples_per_peer=1000,\n",
    "        batch_size=32,\n",
    "        lr=0.01,\n",
    "        num_rounds=50,\n",
    "        local_epochs=1,\n",
    "        topology='ring'  \n",
    "    )\n"
   ]
  }
 ],
 "metadata": {
  "kernelspec": {
   "display_name": "Python 3 (ipykernel)",
   "language": "python",
   "name": "python3"
  },
  "language_info": {
   "codemirror_mode": {
    "name": "ipython",
    "version": 3
   },
   "file_extension": ".py",
   "mimetype": "text/x-python",
   "name": "python",
   "nbconvert_exporter": "python",
   "pygments_lexer": "ipython3",
   "version": "3.11.7"
  }
 },
 "nbformat": 4,
 "nbformat_minor": 5
}
