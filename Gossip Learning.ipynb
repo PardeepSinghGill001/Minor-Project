{
 "cells": [
  {
   "cell_type": "markdown",
   "id": "07ff979a-8856-4dcd-b98d-609f694250c9",
   "metadata": {},
   "source": [
    "# Gossip Learning Algorithm"
   ]
  },
  {
   "cell_type": "code",
   "execution_count": null,
   "id": "bccb4da0-9524-464b-8417-0cd2e00ec684",
   "metadata": {},
   "outputs": [],
   "source": [
    "import torch\n",
    "import torch.nn as nn\n",
    "import torch.optim as optim\n",
    "import random"
   ]
  },
  {
   "cell_type": "markdown",
   "id": "86735a05-9ddb-4176-b482-55cf65167282",
   "metadata": {},
   "source": [
    "# Define a simple neural network"
   ]
  },
  {
   "cell_type": "code",
   "execution_count": null,
   "id": "8e04087c-f941-43b6-8bc1-41c9e652dc74",
   "metadata": {},
   "outputs": [],
   "source": [
    "\n",
    "class SimpleNN(nn.Module):\n",
    "    def __init__(self, input_size, hidden_size, output_size):\n",
    "        super(SimpleNN, self).__init__()\n",
    "        self.fc1 = nn.Linear(input_size, hidden_size)\n",
    "        self.relu = nn.ReLU()\n",
    "        self.fc2 = nn.Linear(hidden_size, output_size)\n",
    "\n",
    "    def forward(self, x):\n",
    "        x = self.fc1(x)\n",
    "        x = self.relu(x)\n",
    "        x = self.fc2(x)\n",
    "        return x"
   ]
  },
  {
   "cell_type": "markdown",
   "id": "4c5279eb-2465-449d-96d5-23eaa6292f56",
   "metadata": {},
   "source": [
    "#  Define a peer"
   ]
  },
  {
   "cell_type": "code",
   "execution_count": null,
   "id": "fcd918dd-777b-4bb0-968d-fb7809ede7ac",
   "metadata": {},
   "outputs": [],
   "source": [
    "\n",
    "class Peer:\n",
    "    def __init__(self, id, model, dataset, lr=0.01):\n",
    "        self.id = id\n",
    "        self.model = model\n",
    "        self.dataset = dataset\n",
    "        self.optimizer = optim.SGD(self.model.parameters(), lr=lr)\n",
    "        self.criterion = nn.CrossEntropyLoss()\n",
    "\n",
    "    def train_on_local_data(self, epochs=1):\n",
    "        self.model.train()\n",
    "        for epoch in range(epochs):\n",
    "            for x, y in self.dataset:\n",
    "                x, y = x.float(), y.long()\n",
    "                self.optimizer.zero_grad()\n",
    "                output = self.model(x)\n",
    "                loss = self.criterion(output, y)\n",
    "                loss.backward()\n",
    "                self.optimizer.step()\n",
    "\n",
    "    "
   ]
  },
  {
   "cell_type": "markdown",
   "id": "67488e50-93b9-47d2-a75c-510d53b924b8",
   "metadata": {},
   "source": [
    "# Weighted averaging of model parameters"
   ]
  },
  {
   "cell_type": "code",
   "execution_count": null,
   "id": "f46da824-0d9c-420d-80fa-c52aa90677b2",
   "metadata": {},
   "outputs": [],
   "source": [
    "def exchange_and_update(self, other_peer):\n",
    "            with torch.no_grad():\n",
    "            for param_self, param_other in zip(self.model.parameters(), other_peer.model.parameters()):\n",
    "                param_self.data = 0.5 * (param_self.data + param_other.data)"
   ]
  },
  {
   "cell_type": "code",
   "execution_count": null,
   "id": "664b00e9-66e3-414d-9620-525413d0811b",
   "metadata": {},
   "outputs": [],
   "source": [
    "# Create synthetic data for peers\n",
    "def generate_synthetic_data(num_samples, input_size, num_classes):\n",
    "    x = torch.rand(num_samples, input_size)\n",
    "    y = torch.randint(0, num_classes, (num_samples,))\n",
    "    return [(x[i], y[i]) for i in range(num_samples)]\n",
    "\n",
    "# Initialize parameters\n",
    "num_peers = 5\n",
    "input_size = 10\n",
    "hidden_size = 20\n",
    "output_size = 3\n",
    "num_samples_per_peer = 100\n",
    "\n",
    "# Create peers with local datasets\n",
    "peers = []\n",
    "for i in range(num_peers):\n",
    "    model = SimpleNN(input_size, hidden_size, output_size)\n",
    "    dataset = generate_synthetic_data(num_samples_per_peer, input_size, output_size)\n",
    "    peers.append(Peer(i, model, dataset))\n",
    "\n",
    "\n",
    "\n"
   ]
  },
  {
   "cell_type": "markdown",
   "id": "30e63c5c-f70f-47e1-89f7-4d8d14492b74",
   "metadata": {},
   "source": [
    "# Gossip learning loop\n"
   ]
  },
  {
   "cell_type": "code",
   "execution_count": null,
   "id": "784f1ab0-7403-4d76-8594-9cfaa1b0bdd0",
   "metadata": {},
   "outputs": [],
   "source": [
    "num_rounds = 10\n",
    "for round_num in range(num_rounds):\n",
    "    print(f\"Round {round_num + 1}/{num_rounds}\")\n",
    "    # Each peer trains locally\n",
    "    for peer in peers:\n",
    "        peer.train_on_local_data(epochs=1)\n",
    "\n",
    "    # Randomly select pairs of peers to exchange models\n",
    "    peer_pairs = random.sample(peers, len(peers))\n",
    "    for i in range(0, len(peer_pairs) - 1, 2):\n",
    "        peer_pairs[i].exchange_and_update(peer_pairs[i + 1])\n"
   ]
  },
  {
   "cell_type": "markdown",
   "id": "2a852402-44bf-414c-8ef5-2418daa47c71",
   "metadata": {},
   "source": [
    "## Evaluate final models (e.g., on a global test set or peer's local test set)"
   ]
  }
 ],
 "metadata": {
  "kernelspec": {
   "display_name": "Python 3 (ipykernel)",
   "language": "python",
   "name": "python3"
  },
  "language_info": {
   "codemirror_mode": {
    "name": "ipython",
    "version": 3
   },
   "file_extension": ".py",
   "mimetype": "text/x-python",
   "name": "python",
   "nbconvert_exporter": "python",
   "pygments_lexer": "ipython3",
   "version": "3.11.7"
  }
 },
 "nbformat": 4,
 "nbformat_minor": 5
}
